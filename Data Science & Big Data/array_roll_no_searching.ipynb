{
  "nbformat": 4,
  "nbformat_minor": 0,
  "metadata": {
    "colab": {
      "name": "array roll no.searching.ipynb",
      "provenance": [],
      "collapsed_sections": [],
      "authorship_tag": "ABX9TyOtyFSfGaR9qqaQf5DEP9/C",
      "include_colab_link": true
    },
    "kernelspec": {
      "name": "python3",
      "display_name": "Python 3"
    }
  },
  "cells": [
    {
      "cell_type": "markdown",
      "metadata": {
        "id": "view-in-github",
        "colab_type": "text"
      },
      "source": [
        "<a href=\"https://colab.research.google.com/github/sanyogita75/TE-Assignments/blob/main/Data%20Science%20%26%20Big%20Data/array_roll_no_searching.ipynb\" target=\"_parent\"><img src=\"https://colab.research.google.com/assets/colab-badge.svg\" alt=\"Open In Colab\"/></a>"
      ]
    },
    {
      "cell_type": "code",
      "metadata": {
        "id": "JNCjWqVPbUsf",
        "outputId": "86200500-8288-481e-aa20-a478a03d1221",
        "colab": {
          "base_uri": "https://localhost:8080/"
        }
      },
      "source": [
        "def accept_array(A):\n",
        "  n=int(input(\"Enter the no. of students:\"))\n",
        "  for i in range(n):\n",
        "    x = int(input(\"Enter the roll no.students %d : \"%(i+1)))\n",
        "    A.append(x)\n",
        "  print(\"Array accepted succesfully \\n\\n\")\n",
        "  return n\n",
        "def display_array(A,n):\n",
        "  if(n==0):\n",
        "    print(\"\\n no record in databae\")\n",
        "  else:\n",
        "    print(\"Student array:\",end='')\n",
        "    for i in range(n):\n",
        "       print(\"%d \"%A[i],end='')\n",
        "    print(\"\\n\");\n",
        "def linear_search(A,n,x):\n",
        "  for i in range(n):\n",
        "    if (A[i]==x):\n",
        "      return i\n",
        "  return -1\n",
        "def sentinal_search(A,n,x) :\n",
        "  last = A[n-1]\n",
        "  i = 0\n",
        "  A[n-1] = x\n",
        "  while(A[i] != x):\n",
        "    i = i + 1\n",
        "  A[n-1] = last\n",
        "  if((i<n-1)or (x == A[n-1])) :\n",
        "    return i\n",
        "  else :\n",
        "      return -1\n",
        "\n",
        "\n",
        "def main():\n",
        "  A=[]\n",
        "  while True :\n",
        "    print(\"\\t 1:Accept and display matrix\")\n",
        "    print(\"\\t 2:linear_search\")\n",
        "    print(\"\\t 3:sentinal_search\")\n",
        "    print(\"\\t 4:Exit\")\n",
        "    ch=int(input(\"Enter the choice:\"))\n",
        "    if (ch==4):\n",
        "      print(\"End of program\")\n",
        "      quit()\n",
        "    elif (ch==1):\n",
        "      A=[]\n",
        "      n=accept_array(A)\n",
        "      display_array(A,n)\n",
        "    elif (ch==2):\n",
        "      x= int(input(\"Enter the roll no.to be searched\"))  \n",
        "      flag = linear_search(A,n,x)\n",
        "      if(flag == -1) :\n",
        "        print(\"\\t Roll np.to be searched not found\")\n",
        "      else :\n",
        "        print(\"\\t Roll no.found at location %d\"%(flag +1))\n",
        "    elif (ch ==3):\n",
        "       x = int(input(\"Enter the roll number to be searched\"))\n",
        "       flag = sentinal_search(A,n,x)\n",
        "       if(flag == -1) :\n",
        "         print(\"\\t roll number to be searched not found\")\n",
        "       else :\n",
        "          print(\"roll number found at location %d\"%(flag+1))\n",
        "\n",
        "    else :\n",
        "      print(\"Wrong choice entered\")\n",
        "main()"
      ],
      "execution_count": null,
      "outputs": [
        {
          "output_type": "stream",
          "text": [
            "\t 1:Accept and display matrix\n",
            "\t 2:linear_search\n",
            "\t 3:sentinal_search\n",
            "\t 4:Exit\n",
            "Array accepted succesfully \n",
            "\n",
            "\n",
            "Student array:10 20 30 40 50 \n",
            "\n",
            "\t 1:Accept and display matrix\n",
            "\t 2:linear_search\n",
            "\t 3:sentinal_search\n",
            "\t 4:Exit\n",
            "\t Roll no.found at location 2\n",
            "\t 1:Accept and display matrix\n",
            "\t 2:linear_search\n",
            "\t 3:sentinal_search\n",
            "\t 4:Exit\n",
            "roll number found at location 3\n",
            "\t 1:Accept and display matrix\n",
            "\t 2:linear_search\n",
            "\t 3:sentinal_search\n",
            "\t 4:Exit\n",
            "End of program\n",
            "\t 1:Accept and display matrix\n",
            "\t 2:linear_search\n",
            "\t 3:sentinal_search\n",
            "\t 4:Exit\n"
          ],
          "name": "stdout"
        }
      ]
    }
  ]
}